{
  "nbformat": 4,
  "nbformat_minor": 0,
  "metadata": {
    "colab": {
      "provenance": []
    },
    "kernelspec": {
      "name": "python3",
      "display_name": "Python 3"
    },
    "language_info": {
      "name": "python"
    }
  },
  "cells": [
    {
      "cell_type": "code",
      "source": [
        "!git clone https://github.com/ElHaban3ro/GToolA\n",
        "import zipfile\n",
        "dataset_export = zipfile.ZipFile('/content/GToolA/Images_samples.zip') # Load zip file.\n",
        "dataset_export.extractall('/content/')"
      ],
      "metadata": {
        "id": "PFGpG3-ExOcZ",
        "colab": {
          "base_uri": "https://localhost:8080/"
        },
        "outputId": "3310daaf-e650-45bd-fb23-a3978e18a569"
      },
      "execution_count": 1,
      "outputs": [
        {
          "output_type": "stream",
          "name": "stdout",
          "text": [
            "Cloning into 'GToolA'...\n",
            "remote: Enumerating objects: 24, done.\u001b[K\n",
            "remote: Counting objects: 100% (24/24), done.\u001b[K\n",
            "remote: Compressing objects: 100% (15/15), done.\u001b[K\n",
            "remote: Total 24 (delta 5), reused 24 (delta 5), pack-reused 0\u001b[K\n",
            "Unpacking objects: 100% (24/24), done.\n"
          ]
        }
      ]
    },
    {
      "cell_type": "code",
      "execution_count": 2,
      "metadata": {
        "id": "Hc7X6dnvvQ-l"
      },
      "outputs": [],
      "source": [
        "#TODO: Preparar dataset\n",
        "import os \n",
        "from PIL import Image\n",
        "import numpy as np\n",
        "\n",
        "\n",
        "train_files = os.listdir('/content/Train')\n",
        "train_x = [] # Imagenes\n",
        "train_y = [] # Labels\n",
        "\n",
        "for image_t in train_files:\n",
        "  img = Image.open(f'/content/Train/{image_t}').resize((50, 50)).convert('L') # Esto se puede \n",
        "  # variar para obtener mayor resolución para las imagenes de entrenamiento y validación. 'L'\n",
        "  \n",
        "\n",
        "  if 'alt' in image_t:\n",
        "    img_a = train_x.append(np.asarray(img))\n",
        "    train_y.append(0) # Las etiquetas consisten en numeros. Las Redes no entienden de letras.\n",
        "\n",
        "  elif 'y' in image_t[0]:\n",
        "    img_a = train_x.append(np.asarray(img))\n",
        "    train_y.append(1)\n",
        "\n",
        "  elif 'n' in image_t[0]:\n",
        "    img_a = train_x.append(np.asarray(img))\n",
        "    train_y.append(2)\n",
        "\n",
        "  elif 'h' in image_t[0]:\n",
        "    img_a = train_x.append(np.asarray(img))\n",
        "    train_y.append(3)"
      ]
    },
    {
      "cell_type": "code",
      "source": [
        "train_data = (train_x, np.array(train_y)) # Tupla con datos las imagenes como array y sus etiquetas."
      ],
      "metadata": {
        "id": "Kvvlvno5lkZu"
      },
      "execution_count": 3,
      "outputs": []
    },
    {
      "cell_type": "code",
      "source": [
        "val_files = os.listdir('/content/Validation')\n",
        "val_x = [] # Imagenes\n",
        "val_y = [] # Labels\n",
        "\n",
        "for image_v in val_files:\n",
        "  img = Image.open(f'/content/Validation/{image_v}').resize((50, 50)).convert('L') # Esto se puede \n",
        "  # variar para obtener mayor resolución para las imagenes de entrenamiento y validación.\n",
        "\n",
        "\n",
        "  if 'alt' in image_t:\n",
        "    img_a = val_x.append(np.asarray(img))\n",
        "    val_y.append(0)\n",
        "\n",
        "  elif 'y' in image_t[0]:\n",
        "    img_a = val_x.append(np.asarray(img))\n",
        "    val_y.append(1)\n",
        "\n",
        "  elif 'n' in image_t[0]:\n",
        "    img_a = val_x.append(np.asarray(img))\n",
        "    val_y.append(2)\n",
        "\n",
        "  elif 'h' in image_t[0]:\n",
        "    img_a = val_x.append(np.asarray(img))\n",
        "    val_y.append(3)"
      ],
      "metadata": {
        "id": "y5upa3ignGhJ"
      },
      "execution_count": 4,
      "outputs": []
    },
    {
      "cell_type": "code",
      "source": [
        "val_data = (val_x, np.array(val_y))"
      ],
      "metadata": {
        "id": "yDu66fl93nX2"
      },
      "execution_count": 5,
      "outputs": []
    },
    {
      "cell_type": "code",
      "source": [
        "# Normalización de los datos.\n",
        "import tensorflow as tf\n",
        "\n",
        "\n",
        "def normalization(images, labels):\n",
        "  images = tf.cast(images, tf.float32) # Esto genera un nuevo array con forma extraña xd.\n",
        "  # La matriz pasa de estar separadas por coma, a cada fila estar unida y separada por puntos.\n",
        "  images /= 255 # 255 es los valores de los pixeles. Básicamente\n",
        "\n",
        "  return images, labels # No operamos las etiquetas pero igualmente queremos que\n",
        "  # al pasar esta función nos devuelva una tupla.\n",
        "\n",
        "\n",
        "  print(images)"
      ],
      "metadata": {
        "id": "r_Batdn13sJU"
      },
      "execution_count": 6,
      "outputs": []
    },
    {
      "cell_type": "code",
      "source": [
        "t_data = normalization(train_data[0], train_data[1])\n",
        "v_data = normalization(val_data[0], val_data[1])"
      ],
      "metadata": {
        "id": "snuI1Rbv4QOy"
      },
      "execution_count": 7,
      "outputs": []
    },
    {
      "cell_type": "code",
      "source": [
        "import matplotlib.pyplot as plt\n",
        "\n",
        "\n",
        "for train_image in t_data[0]:\n",
        "  plt.imshow(train_image, cmap='binary') # Descomentar si es necesario.\n",
        "  plt.show() # Descomentar si es necesario.\n",
        "  break"
      ],
      "metadata": {
        "colab": {
          "base_uri": "https://localhost:8080/",
          "height": 267
        },
        "id": "cZmSSaFr7lzf",
        "outputId": "d4566e79-4815-45d8-9142-a2033ad73786"
      },
      "execution_count": 8,
      "outputs": [
        {
          "output_type": "display_data",
          "data": {
            "text/plain": [
              "<Figure size 432x288 with 1 Axes>"
            ],
            "image/png": "[encoded data removed]"
          },
          "metadata": {
            "needs_background": "light"
          }
        }
      ]
    },
    {
      "cell_type": "code",
      "source": [
        "# Model\n",
        "model = tf.keras.Sequential([\n",
        "    tf.keras.layers.Flatten(input_shape = (50, 50, 1)), # La capa flatten transforma la matriz en una matriz de una dimensión.\n",
        "    tf.keras.layers.Dense(50, activation = tf.nn.relu), # Capa densa de 50 neuronas y \n",
        "    # activación relu. Intentar cambiar la activación?? Las neuronas????\n",
        "    tf.keras.layers.Dense(50, activation = tf.nn.relu),\n",
        "    tf.keras.layers.Dense(4, activation = tf.nn.softmax), # Capa con 4 salidas, para \n",
        "    # las predicciones y activación softmax, que a lo que nos ayuda es a obtener una sola predicción.\n",
        "    # La red se estaría decidiendo solo por una etiqueta.\n",
        "])"
      ],
      "metadata": {
        "id": "KlNY9y30VFLn"
      },
      "execution_count": 9,
      "outputs": []
    },
    {
      "cell_type": "code",
      "source": [
        "# Model compilation\n",
        "\n",
        "model.compile(\n",
        "    \n",
        "    optimizer = 'adam', # Variar esto puede suponer mejora.\n",
        "    loss = tf.keras.losses.SparseCategoricalCrossentropy(), # Funció de perdida. Este es un estandar pero puede variar.\n",
        "    metrics = ['accuracy']\n",
        "\n",
        ")"
      ],
      "metadata": {
        "id": "_FKnNv5jdtzn"
      },
      "execution_count": 10,
      "outputs": []
    },
    {
      "cell_type": "code",
      "source": [
        "# LOTE_SIZE = 32 # Usar lotes??? Son muy pocos ejemplos.\n",
        "\n",
        "history = model.fit(x=t_data[0], y=t_data[1], epochs = 42, validation_data = (v_data[0], v_data[1])) # Las epocas SON variables para un mejor resultado."
      ],
      "metadata": {
        "colab": {
          "base_uri": "https://localhost:8080/"
        },
        "id": "JYa8dRnielhw",
        "outputId": "4e59e5b9-46dc-4420-dfe5-9135f67d2eaa"
      },
      "execution_count": 15,
      "outputs": [
        {
          "output_type": "stream",
          "name": "stdout",
          "text": [
            "Epoch 1/42\n",
            "5/5 [==============================] - 0s 40ms/step - loss: 0.3912 - accuracy: 0.8392 - val_loss: 3.3426 - val_accuracy: 0.2188\n",
            "Epoch 2/42\n",
            "5/5 [==============================] - 0s 16ms/step - loss: 0.3799 - accuracy: 0.8881 - val_loss: 4.6594 - val_accuracy: 0.0000e+00\n",
            "Epoch 3/42\n",
            "5/5 [==============================] - 0s 20ms/step - loss: 0.4611 - accuracy: 0.8112 - val_loss: 2.5399 - val_accuracy: 0.3125\n",
            "Epoch 4/42\n",
            "5/5 [==============================] - 0s 24ms/step - loss: 0.3938 - accuracy: 0.8182 - val_loss: 4.0278 - val_accuracy: 0.0938\n",
            "Epoch 5/42\n",
            "5/5 [==============================] - 0s 21ms/step - loss: 0.3291 - accuracy: 0.9161 - val_loss: 2.8966 - val_accuracy: 0.1250\n",
            "Epoch 6/42\n",
            "5/5 [==============================] - 0s 27ms/step - loss: 0.3736 - accuracy: 0.9021 - val_loss: 4.1502 - val_accuracy: 0.0625\n",
            "Epoch 7/42\n",
            "5/5 [==============================] - 0s 31ms/step - loss: 0.3575 - accuracy: 0.8811 - val_loss: 2.5996 - val_accuracy: 0.3438\n",
            "Epoch 8/42\n",
            "5/5 [==============================] - 0s 19ms/step - loss: 0.3601 - accuracy: 0.8811 - val_loss: 4.8187 - val_accuracy: 0.0000e+00\n",
            "Epoch 9/42\n",
            "5/5 [==============================] - 0s 29ms/step - loss: 0.3629 - accuracy: 0.8531 - val_loss: 3.2881 - val_accuracy: 0.1562\n",
            "Epoch 10/42\n",
            "5/5 [==============================] - 0s 19ms/step - loss: 0.3273 - accuracy: 0.9231 - val_loss: 4.1952 - val_accuracy: 0.0625\n",
            "Epoch 11/42\n",
            "5/5 [==============================] - 0s 38ms/step - loss: 0.3126 - accuracy: 0.8811 - val_loss: 3.3754 - val_accuracy: 0.2500\n",
            "Epoch 12/42\n",
            "5/5 [==============================] - 0s 15ms/step - loss: 0.3300 - accuracy: 0.8811 - val_loss: 3.9159 - val_accuracy: 0.0625\n",
            "Epoch 13/42\n",
            "5/5 [==============================] - 0s 17ms/step - loss: 0.3491 - accuracy: 0.8951 - val_loss: 5.0060 - val_accuracy: 0.0000e+00\n",
            "Epoch 14/42\n",
            "5/5 [==============================] - 0s 21ms/step - loss: 0.4443 - accuracy: 0.8042 - val_loss: 2.4678 - val_accuracy: 0.3438\n",
            "Epoch 15/42\n",
            "5/5 [==============================] - 0s 26ms/step - loss: 0.3696 - accuracy: 0.8601 - val_loss: 5.6141 - val_accuracy: 0.0000e+00\n",
            "Epoch 16/42\n",
            "5/5 [==============================] - 0s 18ms/step - loss: 0.3409 - accuracy: 0.8811 - val_loss: 2.6979 - val_accuracy: 0.3438\n",
            "Epoch 17/42\n",
            "5/5 [==============================] - 0s 31ms/step - loss: 0.3095 - accuracy: 0.8881 - val_loss: 5.4253 - val_accuracy: 0.0000e+00\n",
            "Epoch 18/42\n",
            "5/5 [==============================] - 0s 34ms/step - loss: 0.3342 - accuracy: 0.8671 - val_loss: 2.6388 - val_accuracy: 0.3438\n",
            "Epoch 19/42\n",
            "5/5 [==============================] - 0s 19ms/step - loss: 0.3492 - accuracy: 0.8811 - val_loss: 4.8095 - val_accuracy: 0.0000e+00\n",
            "Epoch 20/42\n",
            "5/5 [==============================] - 0s 21ms/step - loss: 0.3172 - accuracy: 0.9091 - val_loss: 3.8760 - val_accuracy: 0.0938\n",
            "Epoch 21/42\n",
            "5/5 [==============================] - 0s 21ms/step - loss: 0.2876 - accuracy: 0.9021 - val_loss: 3.8430 - val_accuracy: 0.0938\n",
            "Epoch 22/42\n",
            "5/5 [==============================] - 0s 16ms/step - loss: 0.3563 - accuracy: 0.8741 - val_loss: 4.7429 - val_accuracy: 0.0000e+00\n",
            "Epoch 23/42\n",
            "5/5 [==============================] - 0s 11ms/step - loss: 0.3260 - accuracy: 0.8601 - val_loss: 3.3429 - val_accuracy: 0.1875\n",
            "Epoch 24/42\n",
            "5/5 [==============================] - 0s 11ms/step - loss: 0.3380 - accuracy: 0.8881 - val_loss: 5.3167 - val_accuracy: 0.0000e+00\n",
            "Epoch 25/42\n",
            "5/5 [==============================] - 0s 16ms/step - loss: 0.3036 - accuracy: 0.8531 - val_loss: 3.1040 - val_accuracy: 0.3438\n",
            "Epoch 26/42\n",
            "5/5 [==============================] - 0s 14ms/step - loss: 0.2622 - accuracy: 0.9231 - val_loss: 5.3151 - val_accuracy: 0.0000e+00\n",
            "Epoch 27/42\n",
            "5/5 [==============================] - 0s 11ms/step - loss: 0.2556 - accuracy: 0.9510 - val_loss: 3.4035 - val_accuracy: 0.2812\n",
            "Epoch 28/42\n",
            "5/5 [==============================] - 0s 11ms/step - loss: 0.2824 - accuracy: 0.9021 - val_loss: 5.1168 - val_accuracy: 0.0000e+00\n",
            "Epoch 29/42\n",
            "5/5 [==============================] - 0s 12ms/step - loss: 0.2785 - accuracy: 0.9021 - val_loss: 3.8617 - val_accuracy: 0.0938\n",
            "Epoch 30/42\n",
            "5/5 [==============================] - 0s 11ms/step - loss: 0.2631 - accuracy: 0.9091 - val_loss: 4.0256 - val_accuracy: 0.0625\n",
            "Epoch 31/42\n",
            "5/5 [==============================] - 0s 11ms/step - loss: 0.2499 - accuracy: 0.9720 - val_loss: 4.6980 - val_accuracy: 0.0625\n",
            "Epoch 32/42\n",
            "5/5 [==============================] - 0s 12ms/step - loss: 0.2562 - accuracy: 0.8881 - val_loss: 3.5374 - val_accuracy: 0.2500\n",
            "Epoch 33/42\n",
            "5/5 [==============================] - 0s 12ms/step - loss: 0.2357 - accuracy: 0.9720 - val_loss: 5.4772 - val_accuracy: 0.0000e+00\n",
            "Epoch 34/42\n",
            "5/5 [==============================] - 0s 12ms/step - loss: 0.2690 - accuracy: 0.9021 - val_loss: 3.0696 - val_accuracy: 0.2500\n",
            "Epoch 35/42\n",
            "5/5 [==============================] - 0s 12ms/step - loss: 0.2828 - accuracy: 0.9301 - val_loss: 5.5922 - val_accuracy: 0.0000e+00\n",
            "Epoch 36/42\n",
            "5/5 [==============================] - 0s 11ms/step - loss: 0.2428 - accuracy: 0.9091 - val_loss: 3.5751 - val_accuracy: 0.2188\n",
            "Epoch 37/42\n",
            "5/5 [==============================] - 0s 15ms/step - loss: 0.2269 - accuracy: 0.9650 - val_loss: 4.8116 - val_accuracy: 0.0938\n",
            "Epoch 38/42\n",
            "5/5 [==============================] - 0s 12ms/step - loss: 0.1968 - accuracy: 0.9790 - val_loss: 4.3868 - val_accuracy: 0.0625\n",
            "Epoch 39/42\n",
            "5/5 [==============================] - 0s 12ms/step - loss: 0.1981 - accuracy: 0.9650 - val_loss: 4.6677 - val_accuracy: 0.0938\n",
            "Epoch 40/42\n",
            "5/5 [==============================] - 0s 10ms/step - loss: 0.2132 - accuracy: 0.9441 - val_loss: 4.1006 - val_accuracy: 0.1250\n",
            "Epoch 41/42\n",
            "5/5 [==============================] - 0s 15ms/step - loss: 0.2271 - accuracy: 0.9021 - val_loss: 5.1629 - val_accuracy: 0.0000e+00\n",
            "Epoch 42/42\n",
            "5/5 [==============================] - 0s 10ms/step - loss: 0.2278 - accuracy: 0.9231 - val_loss: 4.2109 - val_accuracy: 0.1562\n"
          ]
        }
      ]
    },
    {
      "cell_type": "code",
      "source": [
        "plt.xlabel('Epocas')\n",
        "plt.ylabel('Peridida')\n",
        "plt.plot(history.history['loss'])"
      ],
      "metadata": {
        "colab": {
          "base_uri": "https://localhost:8080/",
          "height": 296
        },
        "id": "XHwLj3qIjieV",
        "outputId": "f2c68259-acee-48c3-a2d4-2e2130ca9feb"
      },
      "execution_count": 12,
      "outputs": [
        {
          "output_type": "execute_result",
          "data": {
            "text/plain": [
              "[<matplotlib.lines.Line2D at 0x7f8d2763b890>]"
            ]
          },
          "metadata": {},
          "execution_count": 12
        },
        {
          "output_type": "display_data",
          "data": {
            "text/plain": [
              "<Figure size 432x288 with 1 Axes>"
            ],
            "image/png": "[encoded data removed]"
          },
          "metadata": {
            "needs_background": "light"
          }
        }
      ]
    },
    {
      "cell_type": "code",
      "source": [
        "plt.xlabel('Epocas')\n",
        "plt.ylabel('Precisión')\n",
        "plt.plot(history.history['accuracy'])"
      ],
      "metadata": {
        "colab": {
          "base_uri": "https://localhost:8080/",
          "height": 296
        },
        "id": "K3SXH2Ozj7TE",
        "outputId": "a7e2792e-1186-4fb5-95c6-aed228a2fbd6"
      },
      "execution_count": 13,
      "outputs": [
        {
          "output_type": "execute_result",
          "data": {
            "text/plain": [
              "[<matplotlib.lines.Line2D at 0x7f8d28e49cd0>]"
            ]
          },
          "metadata": {},
          "execution_count": 13
        },
        {
          "output_type": "display_data",
          "data": {
            "text/plain": [
              "<Figure size 432x288 with 1 Axes>"
            ],
            "image/png": "[encoded data removed]"
          },
          "metadata": {
            "needs_background": "light"
          }
        }
      ]
    },
    {
      "cell_type": "code",
      "source": [
        "plt.xlabel('Epocas')\n",
        "plt.ylabel('Precisión')\n",
        "plt.plot(history.history['val_accuracy'])"
      ],
      "metadata": {
        "colab": {
          "base_uri": "https://localhost:8080/",
          "height": 296
        },
        "id": "XqEdb4fqvvTW",
        "outputId": "5b543780-5e10-4f56-f03b-766e48581849"
      },
      "execution_count": 16,
      "outputs": [
        {
          "output_type": "execute_result",
          "data": {
            "text/plain": [
              "[<matplotlib.lines.Line2D at 0x7f8d28d6b9d0>]"
            ]
          },
          "metadata": {},
          "execution_count": 16
        },
        {
          "output_type": "display_data",
          "data": {
            "text/plain": [
              "<Figure size 432x288 with 1 Axes>"
            ],
            "image/png": "[encoded data removed]"
          },
          "metadata": {
            "needs_background": "light"
          }
        }
      ]
    },
    {
      "cell_type": "code",
      "source": [],
      "metadata": {
        "id": "DcsAVR1i0n-T"
      },
      "execution_count": null,
      "outputs": []
    }
  ]
}